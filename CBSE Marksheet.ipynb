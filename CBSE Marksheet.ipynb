{
 "cells": [
  {
   "cell_type": "code",
   "execution_count": 7,
   "id": "2265cba8-bb0c-4a28-8a0f-a0387646dd0a",
   "metadata": {},
   "outputs": [
    {
     "name": "stdout",
     "output_type": "stream",
     "text": [
      "\t\t\t CENTRAL BOARD OF SECONDARY EDUCATION\n",
      "\t\t\t\t   MARKS STATEMENT\n",
      "\t\t\t SENIOR SCHOOL CERTIFICATE EXAMINATION\n",
      "-----------------------------------------------------------------------------------------------------------------------\n",
      "\n"
     ]
    },
    {
     "name": "stdin",
     "output_type": "stream",
     "text": [
      "Name of Candidate:  Mr. Akash Pandey\n",
      "Roll No:  1615576\n",
      "Mother's Name:  Mrs. Nalini Pandey\n",
      "Father's Name:  Mr. Mukesh Pandey\n"
     ]
    },
    {
     "name": "stdout",
     "output_type": "stream",
     "text": [
      "School: Kendriya Vidyalaya\n",
      "-----------------------------------------------------------------------------------------------------------------------\n",
      "\n"
     ]
    },
    {
     "name": "stdin",
     "output_type": "stream",
     "text": [
      "ENGLISH CORE:  90\n",
      "MATHEMATICS:  96\n",
      "PHYSICS:  92\n",
      "CHEMISTRY:  93\n",
      "HINDI:  90\n"
     ]
    },
    {
     "name": "stdout",
     "output_type": "stream",
     "text": [
      "       Subjects  Marks  Total Marks\n",
      "0  ENGLISH CORE     90          100\n",
      "1   MATHEMATICS     96          100\n",
      "2       PHYSICS     92          100\n",
      "3     CHEMISTRY     93          100\n",
      "4         HINDI     90          100\n",
      "-----------------------------------------------------------------------------------------------------------------------\n",
      "\n",
      "Grade: A+ PASS\n",
      "************************************************************************************************************************\n",
      "\n",
      "DATE: 26/05/2015 \t\t\t\t\t DEPUTY CONTROLLER OF EXAMINATION\n",
      "Abbreviations\n",
      "AB: Absent\n",
      "FP: Fail in Practical\n",
      "FT: Absent in theory\n"
     ]
    }
   ],
   "source": [
    "mtab = \"\\t\\t\\t\"\n",
    "mtab1 = \"\\t\\t\"\n",
    "mtab2 = \"\\t\\t\\t\\t\"\n",
    "mtab3 = \"\\t\"\n",
    "mtab4 = \"\\t\\t\\t\\t\\t\"\n",
    "\n",
    "class CbseMarksheet:\n",
    "    def __init__(self):\n",
    "        print(mtab,\"CENTRAL BOARD OF SECONDARY EDUCATION\")\n",
    "        print(mtab2,\"  MARKS STATEMENT\")\n",
    "        print(mtab,\"SENIOR SCHOOL CERTIFICATE EXAMINATION\")\n",
    "        print(\"-----------------------------------------------------------------------------------------------------------------------\\n\")\n",
    "\n",
    "    def studentinfo(self):\n",
    "        name = input(\"Name of Candidate: \")\n",
    "        roll_no = input(\"Roll No: \")\n",
    "        mother_name = input(\"Mother's Name: \")\n",
    "        father_name = input(\"Father's Name: \")\n",
    "        school = \"School: Kendriya Vidyalaya\"\n",
    "        print(school)\n",
    "        print(\"-----------------------------------------------------------------------------------------------------------------------\\n\")\n",
    "    \n",
    "    def scorecard(self):\n",
    "        marks1 = eval(input(\"ENGLISH CORE: \"))\n",
    "        marks2 = eval(input(\"MATHEMATICS: \"))\n",
    "        marks3 = eval(input(\"PHYSICS: \"))\n",
    "        marks4 = eval(input(\"CHEMISTRY: \"))\n",
    "        marks5 = eval(input(\"HINDI: \"))\n",
    "\n",
    "        scores = [marks1, marks2, marks3, marks4, marks5]\n",
    "        total_marks = [100,100,100,100,100]\n",
    "\n",
    "        \n",
    "        import pandas as pd\n",
    "        subjects = ['ENGLISH CORE', 'MATHEMATICS', 'PHYSICS', 'CHEMISTRY', 'HINDI']\n",
    "        df = pd.DataFrame({'Subjects': subjects, 'Marks': scores, 'Total Marks': total_marks})\n",
    "        print(df)\n",
    "        print(\"-----------------------------------------------------------------------------------------------------------------------\\n\")\n",
    "\n",
    "        \n",
    "        total_marks = sum(scores)       # Calculating total and percentage\n",
    "        percentage = (total_marks / 500) * 100\n",
    "\n",
    "        if 90 <= percentage <= 100:\n",
    "            print(\"Grade: A+\", \"PASS\")\n",
    "        elif 80 <= percentage < 90:\n",
    "            print(\"Grade: A\", \"PASS\")\n",
    "        elif 70 <= percentage < 80:\n",
    "            print(\"Grade: B+\", \"PASS\")\n",
    "        elif 60 <= percentage < 70:\n",
    "            print(\"Grade: B\", \"PASS\")\n",
    "        elif 40 <= percentage < 60:\n",
    "            print(\"Grade: C\", \"FAIL\")\n",
    "        elif 0 <= percentage < 40:\n",
    "            print(\"Grade: D\", \"FAIL AND NEED IMPROVEMENT\")\n",
    "        else:\n",
    "            print(\"INVALID MARKS\")\n",
    "            \n",
    "        print(\"************************************************************************************************************************\\n\")\n",
    "        print(\"DATE: 26/05/2015\", mtab4, \"DEPUTY CONTROLLER OF EXAMINATION\")\n",
    "        print(\"Abbreviations\")\n",
    "        print(\"AB: Absent\")\n",
    "        print(\"FP: Fail in Practical\")\n",
    "        print(\"FT: Absent in theory\")\n",
    "\n",
    "\n",
    "obj = CbseMarksheet()\n",
    "obj.studentinfo()\n",
    "obj.scorecard()\n"
   ]
  },
  {
   "cell_type": "code",
   "execution_count": null,
   "id": "e9493d92-199a-41f2-a073-0826c0d20082",
   "metadata": {},
   "outputs": [],
   "source": []
  }
 ],
 "metadata": {
  "kernelspec": {
   "display_name": "Python 3 (ipykernel)",
   "language": "python",
   "name": "python3"
  },
  "language_info": {
   "codemirror_mode": {
    "name": "ipython",
    "version": 3
   },
   "file_extension": ".py",
   "mimetype": "text/x-python",
   "name": "python",
   "nbconvert_exporter": "python",
   "pygments_lexer": "ipython3",
   "version": "3.12.4"
  }
 },
 "nbformat": 4,
 "nbformat_minor": 5
}
